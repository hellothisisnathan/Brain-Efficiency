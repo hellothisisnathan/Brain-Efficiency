{
 "cells": [
  {
   "cell_type": "code",
   "execution_count": 54,
   "metadata": {
    "scrolled": true
   },
   "outputs": [],
   "source": [
    "from allensdk.core.mouse_connectivity_cache import MouseConnectivityCache\n",
    "mcc = MouseConnectivityCache(manifest_file='connectivity/mouse_connectivity_manifest.json')\n",
    "import pandas as pd\n",
    "\n",
    "# grab the StructureTree instance\n",
    "structure_tree = mcc.get_structure_tree()"
   ]
  },
  {
   "cell_type": "code",
   "execution_count": 55,
   "metadata": {},
   "outputs": [],
   "source": [
    "all_edges = pd.read_csv('./whole brain/edge list - projection volume.csv')"
   ]
  },
  {
   "cell_type": "code",
   "execution_count": 56,
   "metadata": {
    "scrolled": false
   },
   "outputs": [],
   "source": [
    "# Get list of all nodes involved in feeding from old feeding doc\n",
    "feeding = pd.read_excel('../../spreadsheets/Experiment Nodes Feeding List.xlsx')\n",
    "feeding_nodes = feeding.loc[feeding['Associated with feeding?'].str.contains('Y', na=False)][['structure-id', 'structure-abbrev', 'structure-name']]"
   ]
  },
  {
   "source": [
    "### Knockdown some nodes in the network"
   ],
   "cell_type": "markdown",
   "metadata": {}
  },
  {
   "cell_type": "code",
   "execution_count": 101,
   "metadata": {},
   "outputs": [],
   "source": [
    "# Knockdown some nodes in the network\n",
    "#knockdown_nodes = [63, 250, 754, 38, 780, 647]\n",
    "kdn = 'no'\n",
    "knockdown_nodes = []\n",
    "feeding_nodes = feeding_nodes.loc[~feeding_nodes['structure-id'].isin(knockdown_nodes)]"
   ]
  },
  {
   "cell_type": "markdown",
   "metadata": {},
   "source": [
    "### Create list of all feeding edges"
   ]
  },
  {
   "cell_type": "code",
   "execution_count": 102,
   "metadata": {},
   "outputs": [
    {
     "output_type": "stream",
     "name": "stdout",
     "text": [
      "There are 4539 edges involving the feeding circuit.\n"
     ]
    },
    {
     "output_type": "execute_result",
     "data": {
      "text/plain": [
       "    experiment_id         id origin_abbrev  origin_id target_abbrev  \\\n",
       "16      158258062  628588727           VMH        693          root   \n",
       "19      158258062  628588946           VMH        693            HY   \n",
       "20      158258062  628589030           VMH        693            IB   \n",
       "21      158258062  628586285           VMH        693            BS   \n",
       "22      158258062  628584332           VMH        693          grey   \n",
       "\n",
       "    target_id  is_injection  max_voxel_density  max_voxel_x  max_voxel_y  ...  \\\n",
       "16        997          True                1.0         6610         6100  ...   \n",
       "19       1097          True                1.0         6610         6100  ...   \n",
       "20       1129          True                1.0         6610         6100  ...   \n",
       "21        343          True                1.0         6610         6100  ...   \n",
       "22          8          True                1.0         6610         6100  ...   \n",
       "\n",
       "    normalized_projection_volume  projection_density  projection_energy  \\\n",
       "16                      1.000000            0.991973       12449.342253   \n",
       "19                      0.974524            0.994024       12568.514526   \n",
       "20                      0.974524            0.994024       12568.512992   \n",
       "21                      0.974524            0.994024       12568.512992   \n",
       "22                      0.974524            0.994024       12568.512992   \n",
       "\n",
       "    projection_intensity  projection_volume  sum_pixel_intensity  \\\n",
       "16          12550.076539           1.465075         1.501513e+13   \n",
       "19          12644.075595           1.427751         1.473899e+13   \n",
       "20          12644.074785           1.427751         1.473899e+13   \n",
       "21          12644.074785           1.427751         1.473899e+13   \n",
       "22          12644.074785           1.427751         1.473899e+13   \n",
       "\n",
       "      sum_pixels  sum_projection_pixel_intensity  sum_projection_pixels  \\\n",
       "16  1.205657e+09                    1.500964e+13           1.195980e+09   \n",
       "19  1.172518e+09                    1.473681e+13           1.165511e+09   \n",
       "20  1.172518e+09                    1.473681e+13           1.165511e+09   \n",
       "21  1.172518e+09                    1.473681e+13           1.165511e+09   \n",
       "22  1.172518e+09                    1.473681e+13           1.165511e+09   \n",
       "\n",
       "      volume  \n",
       "16  1.476930  \n",
       "19  1.436335  \n",
       "20  1.436335  \n",
       "21  1.436335  \n",
       "22  1.436335  \n",
       "\n",
       "[5 rows x 21 columns]"
      ],
      "text/html": "<div>\n<style scoped>\n    .dataframe tbody tr th:only-of-type {\n        vertical-align: middle;\n    }\n\n    .dataframe tbody tr th {\n        vertical-align: top;\n    }\n\n    .dataframe thead th {\n        text-align: right;\n    }\n</style>\n<table border=\"1\" class=\"dataframe\">\n  <thead>\n    <tr style=\"text-align: right;\">\n      <th></th>\n      <th>experiment_id</th>\n      <th>id</th>\n      <th>origin_abbrev</th>\n      <th>origin_id</th>\n      <th>target_abbrev</th>\n      <th>target_id</th>\n      <th>is_injection</th>\n      <th>max_voxel_density</th>\n      <th>max_voxel_x</th>\n      <th>max_voxel_y</th>\n      <th>...</th>\n      <th>normalized_projection_volume</th>\n      <th>projection_density</th>\n      <th>projection_energy</th>\n      <th>projection_intensity</th>\n      <th>projection_volume</th>\n      <th>sum_pixel_intensity</th>\n      <th>sum_pixels</th>\n      <th>sum_projection_pixel_intensity</th>\n      <th>sum_projection_pixels</th>\n      <th>volume</th>\n    </tr>\n  </thead>\n  <tbody>\n    <tr>\n      <th>16</th>\n      <td>158258062</td>\n      <td>628588727</td>\n      <td>VMH</td>\n      <td>693</td>\n      <td>root</td>\n      <td>997</td>\n      <td>True</td>\n      <td>1.0</td>\n      <td>6610</td>\n      <td>6100</td>\n      <td>...</td>\n      <td>1.000000</td>\n      <td>0.991973</td>\n      <td>12449.342253</td>\n      <td>12550.076539</td>\n      <td>1.465075</td>\n      <td>1.501513e+13</td>\n      <td>1.205657e+09</td>\n      <td>1.500964e+13</td>\n      <td>1.195980e+09</td>\n      <td>1.476930</td>\n    </tr>\n    <tr>\n      <th>19</th>\n      <td>158258062</td>\n      <td>628588946</td>\n      <td>VMH</td>\n      <td>693</td>\n      <td>HY</td>\n      <td>1097</td>\n      <td>True</td>\n      <td>1.0</td>\n      <td>6610</td>\n      <td>6100</td>\n      <td>...</td>\n      <td>0.974524</td>\n      <td>0.994024</td>\n      <td>12568.514526</td>\n      <td>12644.075595</td>\n      <td>1.427751</td>\n      <td>1.473899e+13</td>\n      <td>1.172518e+09</td>\n      <td>1.473681e+13</td>\n      <td>1.165511e+09</td>\n      <td>1.436335</td>\n    </tr>\n    <tr>\n      <th>20</th>\n      <td>158258062</td>\n      <td>628589030</td>\n      <td>VMH</td>\n      <td>693</td>\n      <td>IB</td>\n      <td>1129</td>\n      <td>True</td>\n      <td>1.0</td>\n      <td>6610</td>\n      <td>6100</td>\n      <td>...</td>\n      <td>0.974524</td>\n      <td>0.994024</td>\n      <td>12568.512992</td>\n      <td>12644.074785</td>\n      <td>1.427751</td>\n      <td>1.473899e+13</td>\n      <td>1.172518e+09</td>\n      <td>1.473681e+13</td>\n      <td>1.165511e+09</td>\n      <td>1.436335</td>\n    </tr>\n    <tr>\n      <th>21</th>\n      <td>158258062</td>\n      <td>628586285</td>\n      <td>VMH</td>\n      <td>693</td>\n      <td>BS</td>\n      <td>343</td>\n      <td>True</td>\n      <td>1.0</td>\n      <td>6610</td>\n      <td>6100</td>\n      <td>...</td>\n      <td>0.974524</td>\n      <td>0.994024</td>\n      <td>12568.512992</td>\n      <td>12644.074785</td>\n      <td>1.427751</td>\n      <td>1.473899e+13</td>\n      <td>1.172518e+09</td>\n      <td>1.473681e+13</td>\n      <td>1.165511e+09</td>\n      <td>1.436335</td>\n    </tr>\n    <tr>\n      <th>22</th>\n      <td>158258062</td>\n      <td>628584332</td>\n      <td>VMH</td>\n      <td>693</td>\n      <td>grey</td>\n      <td>8</td>\n      <td>True</td>\n      <td>1.0</td>\n      <td>6610</td>\n      <td>6100</td>\n      <td>...</td>\n      <td>0.974524</td>\n      <td>0.994024</td>\n      <td>12568.512992</td>\n      <td>12644.074785</td>\n      <td>1.427751</td>\n      <td>1.473899e+13</td>\n      <td>1.172518e+09</td>\n      <td>1.473681e+13</td>\n      <td>1.165511e+09</td>\n      <td>1.436335</td>\n    </tr>\n  </tbody>\n</table>\n<p>5 rows × 21 columns</p>\n</div>"
     },
     "metadata": {},
     "execution_count": 102
    }
   ],
   "source": [
    "# Create new dataframe with only feeding edges\n",
    "feeding_edges = all_edges.loc[(all_edges['origin_id'].isin(feeding_nodes['structure-id'])) | (all_edges['target_id'].isin(feeding_nodes['structure-id']))]\n",
    "print('There are %d edges involving the feeding circuit.' % feeding_edges.shape[0])\n",
    "feeding_edges.head()"
   ]
  },
  {
   "cell_type": "markdown",
   "metadata": {},
   "source": [
    "# Top 50% projection volume analysis"
   ]
  },
  {
   "cell_type": "markdown",
   "metadata": {},
   "source": [
    "### Select top 50% of edges"
   ]
  },
  {
   "cell_type": "code",
   "execution_count": 103,
   "metadata": {
    "scrolled": true
   },
   "outputs": [],
   "source": [
    "# Get top 50% of feeding edges\n",
    "#feeding_edges_50 = feeding_edges.iloc[:round(feeding_edges.shape[0] / 2)]\n",
    "#print('There are %d edges in the top 50%% volumes for feeding' % feeding_edges_50.shape[0])\n",
    "#feeding_edges_50.head()"
   ]
  },
  {
   "cell_type": "markdown",
   "metadata": {},
   "source": [
    "#### Create 3 groups of feeding network edges\n",
    "Outgoing edges : Edges which start *in* the network and *leave*\n",
    "\n",
    "Incoming edges : Edges which start *outside* the network and *enter*\n",
    "\n",
    "Internal edges : Edges that start *in* the network and *end there*"
   ]
  },
  {
   "cell_type": "code",
   "execution_count": 104,
   "metadata": {},
   "outputs": [],
   "source": [
    "# Find list of outgoing/incoming/internal edges\n",
    "outgoing_edges = feeding_edges.loc[~feeding_edges['target_id'].isin(feeding_nodes['structure-id'])]  # The target is not in the feeding network\n",
    "incoming_edges = feeding_edges.loc[(~feeding_edges['origin_id'].isin(feeding_nodes['structure-id'])) & (feeding_edges['target_id'].isin(feeding_nodes['structure-id']))]  # The origin isn't in the feeding network and the target is\n",
    "internal_edges = feeding_edges.loc[(feeding_edges['origin_id'].isin(feeding_nodes['structure-id'])) & (feeding_edges['target_id'].isin(feeding_nodes['structure-id']))]  # Both the origin and target are in the feeding network\n",
    "\n",
    "external_edges = pd.concat([outgoing_edges, incoming_edges])"
   ]
  },
  {
   "cell_type": "code",
   "execution_count": 105,
   "metadata": {},
   "outputs": [
    {
     "output_type": "execute_result",
     "data": {
      "text/plain": [
       "       experiment_id         id origin_abbrev  origin_id target_abbrev  \\\n",
       "686        175265301  630010199           IRN        136            MV   \n",
       "728        165972951  629617054           BMA        319           CEA   \n",
       "823        180709230  630418124          ORBl        723           AIv   \n",
       "874        180709230  630418091          ORBl        723           AId   \n",
       "877        113935990  633239955           BMA        319           MEA   \n",
       "...              ...        ...           ...        ...           ...   \n",
       "13405      100141597  631382340            MS        564           BST   \n",
       "13417      574363940  635385543           PSV          7           IRN   \n",
       "13463      204908781  630572738           PVT        149           TRS   \n",
       "13481      286319739  631497971           NDB        596           AAA   \n",
       "13523      293469501  631992363           MEA        403          PSTN   \n",
       "\n",
       "       target_id  is_injection  max_voxel_density  max_voxel_x  max_voxel_y  \\\n",
       "686          202          True       1.000000e+00        11060         5260   \n",
       "728          536          True       1.000000e+00         6030         6040   \n",
       "823          119          True       1.000000e+00         3170         4600   \n",
       "874          104          True       1.000000e+00         3010         4370   \n",
       "877          403          True       1.000000e+00         7100         6320   \n",
       "...          ...           ...                ...          ...          ...   \n",
       "13405        351          True       4.174973e-04         4880         5190   \n",
       "13417        136          True       3.250572e-04        10580         6400   \n",
       "13463        581          True       7.466386e-07         5540         4190   \n",
       "13481         23          True       0.000000e+00            0            0   \n",
       "13523        364          True       0.000000e+00            0            0   \n",
       "\n",
       "       ...  normalized_projection_volume  projection_density  \\\n",
       "686    ...                  2.621136e-01            0.694706   \n",
       "728    ...                  2.476374e-01            0.849592   \n",
       "823    ...                  3.288270e-01            0.999153   \n",
       "874    ...                  3.021429e-01            0.998985   \n",
       "877    ...                  3.001956e-01            0.998499   \n",
       "...    ...                           ...                 ...   \n",
       "13405  ...                  1.201903e-09            0.885626   \n",
       "13417  ...                  3.051300e-07            0.005595   \n",
       "13463  ...                  2.121136e-11            0.482759   \n",
       "13481  ...                  0.000000e+00            0.000000   \n",
       "13523  ...                  0.000000e+00            0.000000   \n",
       "\n",
       "       projection_energy  projection_intensity  projection_volume  \\\n",
       "686          1260.189499           1813.988972       3.049572e-01   \n",
       "728          6532.132660           7688.550322       2.919403e-01   \n",
       "823         14243.600631          14255.673137       2.621197e-01   \n",
       "874         12661.320933          12674.180112       2.408489e-01   \n",
       "877          4680.028387           4687.062077       2.387995e-01   \n",
       "...                  ...                   ...                ...   \n",
       "13405        1242.987395           1403.512110       4.727649e-10   \n",
       "13417           4.856128            868.000040       3.583755e-10   \n",
       "13463        1101.931032           2282.571546       8.231690e-13   \n",
       "13481           0.000000              0.000000       0.000000e+00   \n",
       "13523           0.000000              0.000000       0.000000e+00   \n",
       "\n",
       "       sum_pixel_intensity    sum_pixels  sum_projection_pixel_intensity  \\\n",
       "686           4.916998e+11  3.583452e+08                    4.515829e+11   \n",
       "728           2.105783e+12  2.805094e+08                    1.832324e+12   \n",
       "823           3.050814e+12  2.141566e+08                    3.050362e+12   \n",
       "874           2.492421e+12  1.968110e+08                    2.491887e+12   \n",
       "877           9.139711e+11  1.952313e+08                    9.136882e+11   \n",
       "...                    ...           ...                             ...   \n",
       "13405         5.651700e+02  4.357712e-01                    5.416581e+02   \n",
       "13417         2.205826e+04  5.229160e+01                    2.539347e+02   \n",
       "13463         2.123824e+00  1.391948e-03                    1.533830e+00   \n",
       "13481         8.714411e+04  1.273160e+02                    0.000000e+00   \n",
       "13523         7.055360e-01  1.333849e-02                    0.000000e+00   \n",
       "\n",
       "       sum_projection_pixels        volume  \n",
       "686             2.489447e+08  4.389729e-01  \n",
       "728             2.383186e+08  3.436240e-01  \n",
       "823             2.139753e+08  2.623419e-01  \n",
       "874             1.966113e+08  2.410935e-01  \n",
       "877             1.949384e+08  2.391584e-01  \n",
       "...                      ...           ...  \n",
       "13405           3.859305e-01  5.338198e-10  \n",
       "13417           2.925515e-01  6.405721e-08  \n",
       "13463           6.719747e-04  1.705136e-12  \n",
       "13481           0.000000e+00  1.559621e-07  \n",
       "13523           0.000000e+00  1.633965e-11  \n",
       "\n",
       "[314 rows x 21 columns]"
      ],
      "text/html": "<div>\n<style scoped>\n    .dataframe tbody tr th:only-of-type {\n        vertical-align: middle;\n    }\n\n    .dataframe tbody tr th {\n        vertical-align: top;\n    }\n\n    .dataframe thead th {\n        text-align: right;\n    }\n</style>\n<table border=\"1\" class=\"dataframe\">\n  <thead>\n    <tr style=\"text-align: right;\">\n      <th></th>\n      <th>experiment_id</th>\n      <th>id</th>\n      <th>origin_abbrev</th>\n      <th>origin_id</th>\n      <th>target_abbrev</th>\n      <th>target_id</th>\n      <th>is_injection</th>\n      <th>max_voxel_density</th>\n      <th>max_voxel_x</th>\n      <th>max_voxel_y</th>\n      <th>...</th>\n      <th>normalized_projection_volume</th>\n      <th>projection_density</th>\n      <th>projection_energy</th>\n      <th>projection_intensity</th>\n      <th>projection_volume</th>\n      <th>sum_pixel_intensity</th>\n      <th>sum_pixels</th>\n      <th>sum_projection_pixel_intensity</th>\n      <th>sum_projection_pixels</th>\n      <th>volume</th>\n    </tr>\n  </thead>\n  <tbody>\n    <tr>\n      <th>686</th>\n      <td>175265301</td>\n      <td>630010199</td>\n      <td>IRN</td>\n      <td>136</td>\n      <td>MV</td>\n      <td>202</td>\n      <td>True</td>\n      <td>1.000000e+00</td>\n      <td>11060</td>\n      <td>5260</td>\n      <td>...</td>\n      <td>2.621136e-01</td>\n      <td>0.694706</td>\n      <td>1260.189499</td>\n      <td>1813.988972</td>\n      <td>3.049572e-01</td>\n      <td>4.916998e+11</td>\n      <td>3.583452e+08</td>\n      <td>4.515829e+11</td>\n      <td>2.489447e+08</td>\n      <td>4.389729e-01</td>\n    </tr>\n    <tr>\n      <th>728</th>\n      <td>165972951</td>\n      <td>629617054</td>\n      <td>BMA</td>\n      <td>319</td>\n      <td>CEA</td>\n      <td>536</td>\n      <td>True</td>\n      <td>1.000000e+00</td>\n      <td>6030</td>\n      <td>6040</td>\n      <td>...</td>\n      <td>2.476374e-01</td>\n      <td>0.849592</td>\n      <td>6532.132660</td>\n      <td>7688.550322</td>\n      <td>2.919403e-01</td>\n      <td>2.105783e+12</td>\n      <td>2.805094e+08</td>\n      <td>1.832324e+12</td>\n      <td>2.383186e+08</td>\n      <td>3.436240e-01</td>\n    </tr>\n    <tr>\n      <th>823</th>\n      <td>180709230</td>\n      <td>630418124</td>\n      <td>ORBl</td>\n      <td>723</td>\n      <td>AIv</td>\n      <td>119</td>\n      <td>True</td>\n      <td>1.000000e+00</td>\n      <td>3170</td>\n      <td>4600</td>\n      <td>...</td>\n      <td>3.288270e-01</td>\n      <td>0.999153</td>\n      <td>14243.600631</td>\n      <td>14255.673137</td>\n      <td>2.621197e-01</td>\n      <td>3.050814e+12</td>\n      <td>2.141566e+08</td>\n      <td>3.050362e+12</td>\n      <td>2.139753e+08</td>\n      <td>2.623419e-01</td>\n    </tr>\n    <tr>\n      <th>874</th>\n      <td>180709230</td>\n      <td>630418091</td>\n      <td>ORBl</td>\n      <td>723</td>\n      <td>AId</td>\n      <td>104</td>\n      <td>True</td>\n      <td>1.000000e+00</td>\n      <td>3010</td>\n      <td>4370</td>\n      <td>...</td>\n      <td>3.021429e-01</td>\n      <td>0.998985</td>\n      <td>12661.320933</td>\n      <td>12674.180112</td>\n      <td>2.408489e-01</td>\n      <td>2.492421e+12</td>\n      <td>1.968110e+08</td>\n      <td>2.491887e+12</td>\n      <td>1.966113e+08</td>\n      <td>2.410935e-01</td>\n    </tr>\n    <tr>\n      <th>877</th>\n      <td>113935990</td>\n      <td>633239955</td>\n      <td>BMA</td>\n      <td>319</td>\n      <td>MEA</td>\n      <td>403</td>\n      <td>True</td>\n      <td>1.000000e+00</td>\n      <td>7100</td>\n      <td>6320</td>\n      <td>...</td>\n      <td>3.001956e-01</td>\n      <td>0.998499</td>\n      <td>4680.028387</td>\n      <td>4687.062077</td>\n      <td>2.387995e-01</td>\n      <td>9.139711e+11</td>\n      <td>1.952313e+08</td>\n      <td>9.136882e+11</td>\n      <td>1.949384e+08</td>\n      <td>2.391584e-01</td>\n    </tr>\n    <tr>\n      <th>...</th>\n      <td>...</td>\n      <td>...</td>\n      <td>...</td>\n      <td>...</td>\n      <td>...</td>\n      <td>...</td>\n      <td>...</td>\n      <td>...</td>\n      <td>...</td>\n      <td>...</td>\n      <td>...</td>\n      <td>...</td>\n      <td>...</td>\n      <td>...</td>\n      <td>...</td>\n      <td>...</td>\n      <td>...</td>\n      <td>...</td>\n      <td>...</td>\n      <td>...</td>\n      <td>...</td>\n    </tr>\n    <tr>\n      <th>13405</th>\n      <td>100141597</td>\n      <td>631382340</td>\n      <td>MS</td>\n      <td>564</td>\n      <td>BST</td>\n      <td>351</td>\n      <td>True</td>\n      <td>4.174973e-04</td>\n      <td>4880</td>\n      <td>5190</td>\n      <td>...</td>\n      <td>1.201903e-09</td>\n      <td>0.885626</td>\n      <td>1242.987395</td>\n      <td>1403.512110</td>\n      <td>4.727649e-10</td>\n      <td>5.651700e+02</td>\n      <td>4.357712e-01</td>\n      <td>5.416581e+02</td>\n      <td>3.859305e-01</td>\n      <td>5.338198e-10</td>\n    </tr>\n    <tr>\n      <th>13417</th>\n      <td>574363940</td>\n      <td>635385543</td>\n      <td>PSV</td>\n      <td>7</td>\n      <td>IRN</td>\n      <td>136</td>\n      <td>True</td>\n      <td>3.250572e-04</td>\n      <td>10580</td>\n      <td>6400</td>\n      <td>...</td>\n      <td>3.051300e-07</td>\n      <td>0.005595</td>\n      <td>4.856128</td>\n      <td>868.000040</td>\n      <td>3.583755e-10</td>\n      <td>2.205826e+04</td>\n      <td>5.229160e+01</td>\n      <td>2.539347e+02</td>\n      <td>2.925515e-01</td>\n      <td>6.405721e-08</td>\n    </tr>\n    <tr>\n      <th>13463</th>\n      <td>204908781</td>\n      <td>630572738</td>\n      <td>PVT</td>\n      <td>149</td>\n      <td>TRS</td>\n      <td>581</td>\n      <td>True</td>\n      <td>7.466386e-07</td>\n      <td>5540</td>\n      <td>4190</td>\n      <td>...</td>\n      <td>2.121136e-11</td>\n      <td>0.482759</td>\n      <td>1101.931032</td>\n      <td>2282.571546</td>\n      <td>8.231690e-13</td>\n      <td>2.123824e+00</td>\n      <td>1.391948e-03</td>\n      <td>1.533830e+00</td>\n      <td>6.719747e-04</td>\n      <td>1.705136e-12</td>\n    </tr>\n    <tr>\n      <th>13481</th>\n      <td>286319739</td>\n      <td>631497971</td>\n      <td>NDB</td>\n      <td>596</td>\n      <td>AAA</td>\n      <td>23</td>\n      <td>True</td>\n      <td>0.000000e+00</td>\n      <td>0</td>\n      <td>0</td>\n      <td>...</td>\n      <td>0.000000e+00</td>\n      <td>0.000000</td>\n      <td>0.000000</td>\n      <td>0.000000</td>\n      <td>0.000000e+00</td>\n      <td>8.714411e+04</td>\n      <td>1.273160e+02</td>\n      <td>0.000000e+00</td>\n      <td>0.000000e+00</td>\n      <td>1.559621e-07</td>\n    </tr>\n    <tr>\n      <th>13523</th>\n      <td>293469501</td>\n      <td>631992363</td>\n      <td>MEA</td>\n      <td>403</td>\n      <td>PSTN</td>\n      <td>364</td>\n      <td>True</td>\n      <td>0.000000e+00</td>\n      <td>0</td>\n      <td>0</td>\n      <td>...</td>\n      <td>0.000000e+00</td>\n      <td>0.000000</td>\n      <td>0.000000</td>\n      <td>0.000000</td>\n      <td>0.000000e+00</td>\n      <td>7.055360e-01</td>\n      <td>1.333849e-02</td>\n      <td>0.000000e+00</td>\n      <td>0.000000e+00</td>\n      <td>1.633965e-11</td>\n    </tr>\n  </tbody>\n</table>\n<p>314 rows × 21 columns</p>\n</div>"
     },
     "metadata": {},
     "execution_count": 105
    }
   ],
   "source": [
    "internal_edges"
   ]
  },
  {
   "cell_type": "code",
   "execution_count": 106,
   "metadata": {},
   "outputs": [
    {
     "output_type": "execute_result",
     "data": {
      "text/plain": [
       "   structure-id structure-abbrev                     structure-name  \\\n",
       "3           746            ORBvl   Orbital area, ventrolateral part   \n",
       "4           596              NDB              Diagonal band nucleus   \n",
       "6           295              BLA      Basolateral amygdalar nucleus   \n",
       "7           872               DR               Dorsal nucleus raphe   \n",
       "9           693              VMH  Ventromedial hypothalamic nucleus   \n",
       "\n",
       "   (outgoing edges)  (incoming edges)  internal edges  external edges  \n",
       "3                59                 3              13              62  \n",
       "4                61                 4              19              65  \n",
       "6                78                 8               8              86  \n",
       "7                44                 7               5              51  \n",
       "9               108                 6              15             114  "
      ],
      "text/html": "<div>\n<style scoped>\n    .dataframe tbody tr th:only-of-type {\n        vertical-align: middle;\n    }\n\n    .dataframe tbody tr th {\n        vertical-align: top;\n    }\n\n    .dataframe thead th {\n        text-align: right;\n    }\n</style>\n<table border=\"1\" class=\"dataframe\">\n  <thead>\n    <tr style=\"text-align: right;\">\n      <th></th>\n      <th>structure-id</th>\n      <th>structure-abbrev</th>\n      <th>structure-name</th>\n      <th>(outgoing edges)</th>\n      <th>(incoming edges)</th>\n      <th>internal edges</th>\n      <th>external edges</th>\n    </tr>\n  </thead>\n  <tbody>\n    <tr>\n      <th>3</th>\n      <td>746</td>\n      <td>ORBvl</td>\n      <td>Orbital area, ventrolateral part</td>\n      <td>59</td>\n      <td>3</td>\n      <td>13</td>\n      <td>62</td>\n    </tr>\n    <tr>\n      <th>4</th>\n      <td>596</td>\n      <td>NDB</td>\n      <td>Diagonal band nucleus</td>\n      <td>61</td>\n      <td>4</td>\n      <td>19</td>\n      <td>65</td>\n    </tr>\n    <tr>\n      <th>6</th>\n      <td>295</td>\n      <td>BLA</td>\n      <td>Basolateral amygdalar nucleus</td>\n      <td>78</td>\n      <td>8</td>\n      <td>8</td>\n      <td>86</td>\n    </tr>\n    <tr>\n      <th>7</th>\n      <td>872</td>\n      <td>DR</td>\n      <td>Dorsal nucleus raphe</td>\n      <td>44</td>\n      <td>7</td>\n      <td>5</td>\n      <td>51</td>\n    </tr>\n    <tr>\n      <th>9</th>\n      <td>693</td>\n      <td>VMH</td>\n      <td>Ventromedial hypothalamic nucleus</td>\n      <td>108</td>\n      <td>6</td>\n      <td>15</td>\n      <td>114</td>\n    </tr>\n  </tbody>\n</table>\n</div>"
     },
     "metadata": {},
     "execution_count": 106
    }
   ],
   "source": [
    "# For each node, count up # of escape edges it participates in\n",
    "feeding_nodes['(outgoing edges)'] = feeding_nodes.apply(lambda row: outgoing_edges.loc[outgoing_edges['origin_id'] == row['structure-id']].shape[0], axis=1)\n",
    "# For each node, count up # of nonescape edges it participates in\n",
    "feeding_nodes['(incoming edges)'] = feeding_nodes.apply(lambda row: incoming_edges.loc[incoming_edges['target_id'] == row['structure-id']].shape[0], axis=1)\n",
    "# For each node, count up # of internal edges it participates in\n",
    "feeding_nodes['internal edges'] = feeding_nodes.apply(lambda row: internal_edges.loc[(internal_edges['origin_id'] == row['structure-id']) | (internal_edges['target_id'] == row['structure-id'])].shape[0], axis=1)\n",
    "\n",
    "# Add up edges that communicate w/ outside feeding network\n",
    "feeding_nodes['external edges'] = feeding_nodes['(outgoing edges)'] + feeding_nodes['(incoming edges)']\n",
    "feeding_nodes.head()"
   ]
  },
  {
   "cell_type": "code",
   "execution_count": 107,
   "metadata": {},
   "outputs": [],
   "source": [
    "with pd.ExcelWriter('./feeding/feeding network 100 percent volume ' + str(kdn) + ' knockdown.xlsx') as writer:\n",
    "    feeding_edges[['origin_abbrev', 'origin_id', 'target_abbrev', 'target_id', 'projection_volume']].to_excel(writer, sheet_name='Feeding Network', index=False)\n",
    "    internal_edges[['origin_abbrev', 'origin_id', 'target_abbrev', 'target_id', 'projection_volume']].to_excel(writer, sheet_name='Internal Edges', index=False)\n",
    "    external_edges[['origin_abbrev', 'origin_id', 'target_abbrev', 'target_id', 'projection_volume']].to_excel(writer, sheet_name='External Edges', index=False)\n",
    "    feeding_nodes.to_excel(writer, sheet_name='Analysis', index=False)"
   ]
  },
  {
   "cell_type": "code",
   "execution_count": 108,
   "metadata": {
    "scrolled": false
   },
   "outputs": [
    {
     "output_type": "stream",
     "name": "stdout",
     "text": [
      "There are 2270 edges in the top 50% volumes for feeding\n"
     ]
    },
    {
     "output_type": "execute_result",
     "data": {
      "text/plain": [
       "    experiment_id         id origin_abbrev  origin_id target_abbrev  \\\n",
       "16      158258062  628588727           VMH        693          root   \n",
       "19      158258062  628588946           VMH        693            HY   \n",
       "20      158258062  628589030           VMH        693            IB   \n",
       "21      158258062  628586285           VMH        693            BS   \n",
       "22      158258062  628584332           VMH        693          grey   \n",
       "\n",
       "    target_id  is_injection  max_voxel_density  max_voxel_x  max_voxel_y  ...  \\\n",
       "16        997          True                1.0         6610         6100  ...   \n",
       "19       1097          True                1.0         6610         6100  ...   \n",
       "20       1129          True                1.0         6610         6100  ...   \n",
       "21        343          True                1.0         6610         6100  ...   \n",
       "22          8          True                1.0         6610         6100  ...   \n",
       "\n",
       "    normalized_projection_volume  projection_density  projection_energy  \\\n",
       "16                      1.000000            0.991973       12449.342253   \n",
       "19                      0.974524            0.994024       12568.514526   \n",
       "20                      0.974524            0.994024       12568.512992   \n",
       "21                      0.974524            0.994024       12568.512992   \n",
       "22                      0.974524            0.994024       12568.512992   \n",
       "\n",
       "    projection_intensity  projection_volume  sum_pixel_intensity  \\\n",
       "16          12550.076539           1.465075         1.501513e+13   \n",
       "19          12644.075595           1.427751         1.473899e+13   \n",
       "20          12644.074785           1.427751         1.473899e+13   \n",
       "21          12644.074785           1.427751         1.473899e+13   \n",
       "22          12644.074785           1.427751         1.473899e+13   \n",
       "\n",
       "      sum_pixels  sum_projection_pixel_intensity  sum_projection_pixels  \\\n",
       "16  1.205657e+09                    1.500964e+13           1.195980e+09   \n",
       "19  1.172518e+09                    1.473681e+13           1.165511e+09   \n",
       "20  1.172518e+09                    1.473681e+13           1.165511e+09   \n",
       "21  1.172518e+09                    1.473681e+13           1.165511e+09   \n",
       "22  1.172518e+09                    1.473681e+13           1.165511e+09   \n",
       "\n",
       "      volume  \n",
       "16  1.476930  \n",
       "19  1.436335  \n",
       "20  1.436335  \n",
       "21  1.436335  \n",
       "22  1.436335  \n",
       "\n",
       "[5 rows x 21 columns]"
      ],
      "text/html": "<div>\n<style scoped>\n    .dataframe tbody tr th:only-of-type {\n        vertical-align: middle;\n    }\n\n    .dataframe tbody tr th {\n        vertical-align: top;\n    }\n\n    .dataframe thead th {\n        text-align: right;\n    }\n</style>\n<table border=\"1\" class=\"dataframe\">\n  <thead>\n    <tr style=\"text-align: right;\">\n      <th></th>\n      <th>experiment_id</th>\n      <th>id</th>\n      <th>origin_abbrev</th>\n      <th>origin_id</th>\n      <th>target_abbrev</th>\n      <th>target_id</th>\n      <th>is_injection</th>\n      <th>max_voxel_density</th>\n      <th>max_voxel_x</th>\n      <th>max_voxel_y</th>\n      <th>...</th>\n      <th>normalized_projection_volume</th>\n      <th>projection_density</th>\n      <th>projection_energy</th>\n      <th>projection_intensity</th>\n      <th>projection_volume</th>\n      <th>sum_pixel_intensity</th>\n      <th>sum_pixels</th>\n      <th>sum_projection_pixel_intensity</th>\n      <th>sum_projection_pixels</th>\n      <th>volume</th>\n    </tr>\n  </thead>\n  <tbody>\n    <tr>\n      <th>16</th>\n      <td>158258062</td>\n      <td>628588727</td>\n      <td>VMH</td>\n      <td>693</td>\n      <td>root</td>\n      <td>997</td>\n      <td>True</td>\n      <td>1.0</td>\n      <td>6610</td>\n      <td>6100</td>\n      <td>...</td>\n      <td>1.000000</td>\n      <td>0.991973</td>\n      <td>12449.342253</td>\n      <td>12550.076539</td>\n      <td>1.465075</td>\n      <td>1.501513e+13</td>\n      <td>1.205657e+09</td>\n      <td>1.500964e+13</td>\n      <td>1.195980e+09</td>\n      <td>1.476930</td>\n    </tr>\n    <tr>\n      <th>19</th>\n      <td>158258062</td>\n      <td>628588946</td>\n      <td>VMH</td>\n      <td>693</td>\n      <td>HY</td>\n      <td>1097</td>\n      <td>True</td>\n      <td>1.0</td>\n      <td>6610</td>\n      <td>6100</td>\n      <td>...</td>\n      <td>0.974524</td>\n      <td>0.994024</td>\n      <td>12568.514526</td>\n      <td>12644.075595</td>\n      <td>1.427751</td>\n      <td>1.473899e+13</td>\n      <td>1.172518e+09</td>\n      <td>1.473681e+13</td>\n      <td>1.165511e+09</td>\n      <td>1.436335</td>\n    </tr>\n    <tr>\n      <th>20</th>\n      <td>158258062</td>\n      <td>628589030</td>\n      <td>VMH</td>\n      <td>693</td>\n      <td>IB</td>\n      <td>1129</td>\n      <td>True</td>\n      <td>1.0</td>\n      <td>6610</td>\n      <td>6100</td>\n      <td>...</td>\n      <td>0.974524</td>\n      <td>0.994024</td>\n      <td>12568.512992</td>\n      <td>12644.074785</td>\n      <td>1.427751</td>\n      <td>1.473899e+13</td>\n      <td>1.172518e+09</td>\n      <td>1.473681e+13</td>\n      <td>1.165511e+09</td>\n      <td>1.436335</td>\n    </tr>\n    <tr>\n      <th>21</th>\n      <td>158258062</td>\n      <td>628586285</td>\n      <td>VMH</td>\n      <td>693</td>\n      <td>BS</td>\n      <td>343</td>\n      <td>True</td>\n      <td>1.0</td>\n      <td>6610</td>\n      <td>6100</td>\n      <td>...</td>\n      <td>0.974524</td>\n      <td>0.994024</td>\n      <td>12568.512992</td>\n      <td>12644.074785</td>\n      <td>1.427751</td>\n      <td>1.473899e+13</td>\n      <td>1.172518e+09</td>\n      <td>1.473681e+13</td>\n      <td>1.165511e+09</td>\n      <td>1.436335</td>\n    </tr>\n    <tr>\n      <th>22</th>\n      <td>158258062</td>\n      <td>628584332</td>\n      <td>VMH</td>\n      <td>693</td>\n      <td>grey</td>\n      <td>8</td>\n      <td>True</td>\n      <td>1.0</td>\n      <td>6610</td>\n      <td>6100</td>\n      <td>...</td>\n      <td>0.974524</td>\n      <td>0.994024</td>\n      <td>12568.512992</td>\n      <td>12644.074785</td>\n      <td>1.427751</td>\n      <td>1.473899e+13</td>\n      <td>1.172518e+09</td>\n      <td>1.473681e+13</td>\n      <td>1.165511e+09</td>\n      <td>1.436335</td>\n    </tr>\n  </tbody>\n</table>\n<p>5 rows × 21 columns</p>\n</div>"
     },
     "metadata": {},
     "execution_count": 108
    }
   ],
   "source": [
    "# # Get top 50% of feeding network\n",
    "feeding_edges_50 = feeding_edges.iloc[:round(feeding_edges.shape[0] / 2)]\n",
    "print('There are %d edges in the top 50%% volumes for feeding' % feeding_edges_50.shape[0])\n",
    "feeding_edges_50.head()"
   ]
  },
  {
   "cell_type": "code",
   "execution_count": 109,
   "metadata": {},
   "outputs": [],
   "source": [
    "# Find list of outgoing/incoming/internal edges\n",
    "outgoing_edges_50 = feeding_edges.loc[~feeding_edges['target_id'].isin(feeding_nodes['structure-id'])]  # The target is not in the feeding network\n",
    "outgoing_edges_50 = outgoing_edges_50.iloc[:round(outgoing_edges.shape[0] / 2)]\n",
    "incoming_edges_50 = feeding_edges.loc[(~feeding_edges['origin_id'].isin(feeding_nodes['structure-id'])) & (feeding_edges['target_id'].isin(feeding_nodes['structure-id']))]  # The origin isn't in the feeding network and the target is\n",
    "incoming_edges_50 = incoming_edges_50.iloc[:round(incoming_edges.shape[0] / 2)]\n",
    "internal_edges_50 = feeding_edges.loc[(feeding_edges['origin_id'].isin(feeding_nodes['structure-id'])) & (feeding_edges['target_id'].isin(feeding_nodes['structure-id']))]  # Both the origin and target are in the feeding network\n",
    "internal_edges_50 = internal_edges_50.iloc[:round(internal_edges.shape[0] / 2)]\n",
    "\n",
    "external_edges_50 = pd.concat([outgoing_edges_50, incoming_edges_50])"
   ]
  },
  {
   "cell_type": "code",
   "execution_count": 110,
   "metadata": {},
   "outputs": [
    {
     "output_type": "execute_result",
     "data": {
      "text/plain": [
       "   structure-id structure-abbrev                     structure-name  \\\n",
       "3           746            ORBvl   Orbital area, ventrolateral part   \n",
       "4           596              NDB              Diagonal band nucleus   \n",
       "6           295              BLA      Basolateral amygdalar nucleus   \n",
       "7           872               DR               Dorsal nucleus raphe   \n",
       "9           693              VMH  Ventromedial hypothalamic nucleus   \n",
       "\n",
       "   (outgoing edges)  (incoming edges)  internal edges  external edges  \n",
       "3                34                 1               8              35  \n",
       "4                31                 1              11              32  \n",
       "6                46                 3               5              49  \n",
       "7                13                 4               2              17  \n",
       "9                47                 3              10              50  "
      ],
      "text/html": "<div>\n<style scoped>\n    .dataframe tbody tr th:only-of-type {\n        vertical-align: middle;\n    }\n\n    .dataframe tbody tr th {\n        vertical-align: top;\n    }\n\n    .dataframe thead th {\n        text-align: right;\n    }\n</style>\n<table border=\"1\" class=\"dataframe\">\n  <thead>\n    <tr style=\"text-align: right;\">\n      <th></th>\n      <th>structure-id</th>\n      <th>structure-abbrev</th>\n      <th>structure-name</th>\n      <th>(outgoing edges)</th>\n      <th>(incoming edges)</th>\n      <th>internal edges</th>\n      <th>external edges</th>\n    </tr>\n  </thead>\n  <tbody>\n    <tr>\n      <th>3</th>\n      <td>746</td>\n      <td>ORBvl</td>\n      <td>Orbital area, ventrolateral part</td>\n      <td>34</td>\n      <td>1</td>\n      <td>8</td>\n      <td>35</td>\n    </tr>\n    <tr>\n      <th>4</th>\n      <td>596</td>\n      <td>NDB</td>\n      <td>Diagonal band nucleus</td>\n      <td>31</td>\n      <td>1</td>\n      <td>11</td>\n      <td>32</td>\n    </tr>\n    <tr>\n      <th>6</th>\n      <td>295</td>\n      <td>BLA</td>\n      <td>Basolateral amygdalar nucleus</td>\n      <td>46</td>\n      <td>3</td>\n      <td>5</td>\n      <td>49</td>\n    </tr>\n    <tr>\n      <th>7</th>\n      <td>872</td>\n      <td>DR</td>\n      <td>Dorsal nucleus raphe</td>\n      <td>13</td>\n      <td>4</td>\n      <td>2</td>\n      <td>17</td>\n    </tr>\n    <tr>\n      <th>9</th>\n      <td>693</td>\n      <td>VMH</td>\n      <td>Ventromedial hypothalamic nucleus</td>\n      <td>47</td>\n      <td>3</td>\n      <td>10</td>\n      <td>50</td>\n    </tr>\n  </tbody>\n</table>\n</div>"
     },
     "metadata": {},
     "execution_count": 110
    }
   ],
   "source": [
    "feeding_nodes_50 = feeding_nodes\n",
    "# For each node, count up # of escape edges it participates in\n",
    "feeding_nodes_50['(outgoing edges)'] = feeding_nodes_50.apply(lambda row: outgoing_edges_50.loc[outgoing_edges_50['origin_id'] == row['structure-id']].shape[0], axis=1)\n",
    "# For each node, count up # of nonescape edges it participates in\n",
    "feeding_nodes_50['(incoming edges)'] = feeding_nodes_50.apply(lambda row: incoming_edges_50.loc[incoming_edges_50['target_id'] == row['structure-id']].shape[0], axis=1)\n",
    "# For each node, count up # of internal edges it participates in\n",
    "feeding_nodes_50['internal edges'] = feeding_nodes_50.apply(lambda row: internal_edges_50.loc[(internal_edges_50['origin_id'] == row['structure-id']) | (internal_edges_50['target_id'] == row['structure-id'])].shape[0], axis=1)\n",
    "\n",
    "# Add up edges that communicate w/ outside feeding network\n",
    "feeding_nodes_50['external edges'] = feeding_nodes_50['(outgoing edges)'] + feeding_nodes_50['(incoming edges)']\n",
    "feeding_nodes_50.head()"
   ]
  },
  {
   "cell_type": "code",
   "execution_count": 111,
   "metadata": {},
   "outputs": [],
   "source": [
    "with pd.ExcelWriter('./feeding/feeding network 50 percent volume ' + str(kdn) +' knockdown.xlsx') as writer:\n",
    "    feeding_edges_50[['origin_abbrev', 'origin_id', 'target_abbrev', 'target_id', 'projection_volume']].to_excel(writer, sheet_name='Feeding Network', index=False)\n",
    "    internal_edges_50[['origin_abbrev', 'origin_id', 'target_abbrev', 'target_id', 'projection_volume']].to_excel(writer, sheet_name='Internal Edges', index=False)\n",
    "    external_edges_50[['origin_abbrev', 'origin_id', 'target_abbrev', 'target_id', 'projection_volume']].to_excel(writer, sheet_name='External Edges', index=False)\n",
    "    feeding_nodes.to_excel(writer, sheet_name='Analysis', index=False)"
   ]
  }
 ],
 "metadata": {
  "kernelspec": {
   "name": "Python 3.8.3 64-bit ('aba': conda)",
   "display_name": "Python 3.8.3 64-bit ('aba': conda)",
   "metadata": {
    "interpreter": {
     "hash": "129ada11145abfeff64bcc376e75b58766ef19311b444e18a8f9f272d8bb4a47"
    }
   }
  },
  "language_info": {
   "codemirror_mode": {
    "name": "ipython",
    "version": 3
   },
   "file_extension": ".py",
   "mimetype": "text/x-python",
   "name": "python",
   "nbconvert_exporter": "python",
   "pygments_lexer": "ipython3",
   "version": "3.8.3-final"
  }
 },
 "nbformat": 4,
 "nbformat_minor": 4
}